{
 "cells": [
  {
   "cell_type": "markdown",
   "metadata": {},
   "source": [
    "翻译自：Machine Learning for Finance（第四章）\n",
    "![book](./img/ml_finance.jpg)\n",
    "链接：https://book.douban.com/subject/30220489/"
   ]
  },
  {
   "cell_type": "markdown",
   "metadata": {},
   "source": [
    "时间序列是一种具有时间维度的数据形式，最具标志性的就是金融数据。虽然单个股票报价不是时间序列，但将您通过将每天获得的报价拿来并排列它们，就会得到更有趣的时间序列。几乎所有与金融有关的媒体材料迟早都会报道股价差距，而不是给定时刻的价格清单，而是随着时间的推移价格的发展。\n",
    "您经常会听到财务评论员讨论价格走势：“Apple Inc.上涨5％。” 但是，这是什么意思？您所听到的绝对价值要少得多，例如，“Apple Inc.的股价为137.74美元。” 同样，这是什么意思？之所以会这样，是因为市场参与者对未来的发展趋势很感兴趣，并且他们试图从过去的发展趋势中推断出这些未来的预测。\n",
    "![1.1](./img/1.1.png)"
   ]
  },
  {
   "cell_type": "markdown",
   "metadata": {},
   "source": [
    "大多数预测都涉及查看一段时间内的过去发展情况。时间序列数据集的概念是与预测相关的重要元素。例如，农民在预测农作物产量时将查看时间序列数据集。因此，在统计，计量经济学和工程学领域中已经开发出了大量与时间序列相关的知识和工具。\n",
    "\n",
    "在本章中，我们将研究一些今天仍然非常相关的经典工具。然后，我们将学习神经网络如何处理时间序列，以及深度学习模型如何表达不确定性。\n",
    "\n",
    "在我们着眼于时间序列之前，我需要设定您对本章的期望。你们中许多人可能已经读过本章，以了解有关股票市场的预测，但是我需要警告您，本章与股票市场的预测无关，其他章节也不会涉及。\n",
    "经济理论表明，市场有些有效。有效市场假说指出，所有公开可用的信息都包含在股票价格中。这扩展到有关如何处理信息的信息，例如“预测算法”。\n",
    "\n",
    "如果这本书提出一种可以预测股市价格并带来丰厚回报的算法，那么许多投资者只会简单地实现该算法。由于这些算法都会在预期价格变化的情况下进行买卖，因此它们会改变当前的价格，从而破坏了使用该算法将获得的优势。因此，提出的算法不适用于将来的读者。\n",
    "\n",
    "相反，本章将使用维基百科的流量数据。我们的目标是预测特定Wikipedia页面的访问量。我们可以通过Wikipediatrend CRAN包获取Wikipedia流量数据。\n",
    "\n",
    "我们在这里使用的数据集是Google提供的大约145,000个Wikipedia页面的流量数据。数据可以从Kaggle获得。"
   ]
  },
  {
   "cell_type": "markdown",
   "metadata": {},
   "source": [
    "数据可以从以下位置获取：\n",
    "\n",
    "- https://www.kaggle.com/c/web-traffic-time-series-forecasting\n",
    "\n",
    "- https://www.kaggle.com/muonneutrino/wikipedia-traffic-data-exploratio"
   ]
  },
  {
   "cell_type": "markdown",
   "metadata": {},
   "source": [
    "# [pandas的可视化与准备工作](#content)\n",
    "\n",
    "在开始训练之前获得数据整体概述通常是一个好主意。针对我们从Kaggle获得的数据，您可以通过运行以下操作实现此目标："
   ]
  },
  {
   "cell_type": "code",
   "execution_count": 3,
   "metadata": {},
   "outputs": [],
   "source": [
    "import numpy as np\n",
    "import pandas as pd\n",
    "import matplotlib.pyplot as plt\n",
    "import statsmodels.api as sm\n",
    "\n",
    "from scipy.fftpack import fft"
   ]
  },
  {
   "cell_type": "code",
   "execution_count": 4,
   "metadata": {},
   "outputs": [
    {
     "data": {
      "text/html": [
       "<div>\n",
       "<style scoped>\n",
       "    .dataframe tbody tr th:only-of-type {\n",
       "        vertical-align: middle;\n",
       "    }\n",
       "\n",
       "    .dataframe tbody tr th {\n",
       "        vertical-align: top;\n",
       "    }\n",
       "\n",
       "    .dataframe thead th {\n",
       "        text-align: right;\n",
       "    }\n",
       "</style>\n",
       "<table border=\"1\" class=\"dataframe\">\n",
       "  <thead>\n",
       "    <tr style=\"text-align: right;\">\n",
       "      <th></th>\n",
       "      <th>Page</th>\n",
       "      <th>2015-07-01</th>\n",
       "      <th>2015-07-02</th>\n",
       "      <th>2015-07-03</th>\n",
       "      <th>2015-07-04</th>\n",
       "      <th>2015-07-05</th>\n",
       "      <th>2015-07-06</th>\n",
       "      <th>2015-07-07</th>\n",
       "      <th>2015-07-08</th>\n",
       "      <th>2015-07-09</th>\n",
       "      <th>...</th>\n",
       "      <th>2016-12-22</th>\n",
       "      <th>2016-12-23</th>\n",
       "      <th>2016-12-24</th>\n",
       "      <th>2016-12-25</th>\n",
       "      <th>2016-12-26</th>\n",
       "      <th>2016-12-27</th>\n",
       "      <th>2016-12-28</th>\n",
       "      <th>2016-12-29</th>\n",
       "      <th>2016-12-30</th>\n",
       "      <th>2016-12-31</th>\n",
       "    </tr>\n",
       "  </thead>\n",
       "  <tbody>\n",
       "    <tr>\n",
       "      <td>0</td>\n",
       "      <td>2NE1_zh.wikipedia.org_all-access_spider</td>\n",
       "      <td>18.0</td>\n",
       "      <td>11.0</td>\n",
       "      <td>5.0</td>\n",
       "      <td>13.0</td>\n",
       "      <td>14.0</td>\n",
       "      <td>9.0</td>\n",
       "      <td>9.0</td>\n",
       "      <td>22.0</td>\n",
       "      <td>26.0</td>\n",
       "      <td>...</td>\n",
       "      <td>32.0</td>\n",
       "      <td>63.0</td>\n",
       "      <td>15.0</td>\n",
       "      <td>26.0</td>\n",
       "      <td>14.0</td>\n",
       "      <td>20.0</td>\n",
       "      <td>22.0</td>\n",
       "      <td>19.0</td>\n",
       "      <td>18.0</td>\n",
       "      <td>20.0</td>\n",
       "    </tr>\n",
       "    <tr>\n",
       "      <td>1</td>\n",
       "      <td>2PM_zh.wikipedia.org_all-access_spider</td>\n",
       "      <td>11.0</td>\n",
       "      <td>14.0</td>\n",
       "      <td>15.0</td>\n",
       "      <td>18.0</td>\n",
       "      <td>11.0</td>\n",
       "      <td>13.0</td>\n",
       "      <td>22.0</td>\n",
       "      <td>11.0</td>\n",
       "      <td>10.0</td>\n",
       "      <td>...</td>\n",
       "      <td>17.0</td>\n",
       "      <td>42.0</td>\n",
       "      <td>28.0</td>\n",
       "      <td>15.0</td>\n",
       "      <td>9.0</td>\n",
       "      <td>30.0</td>\n",
       "      <td>52.0</td>\n",
       "      <td>45.0</td>\n",
       "      <td>26.0</td>\n",
       "      <td>20.0</td>\n",
       "    </tr>\n",
       "    <tr>\n",
       "      <td>2</td>\n",
       "      <td>3C_zh.wikipedia.org_all-access_spider</td>\n",
       "      <td>1.0</td>\n",
       "      <td>0.0</td>\n",
       "      <td>1.0</td>\n",
       "      <td>1.0</td>\n",
       "      <td>0.0</td>\n",
       "      <td>4.0</td>\n",
       "      <td>0.0</td>\n",
       "      <td>3.0</td>\n",
       "      <td>4.0</td>\n",
       "      <td>...</td>\n",
       "      <td>3.0</td>\n",
       "      <td>1.0</td>\n",
       "      <td>1.0</td>\n",
       "      <td>7.0</td>\n",
       "      <td>4.0</td>\n",
       "      <td>4.0</td>\n",
       "      <td>6.0</td>\n",
       "      <td>3.0</td>\n",
       "      <td>4.0</td>\n",
       "      <td>17.0</td>\n",
       "    </tr>\n",
       "    <tr>\n",
       "      <td>3</td>\n",
       "      <td>4minute_zh.wikipedia.org_all-access_spider</td>\n",
       "      <td>35.0</td>\n",
       "      <td>13.0</td>\n",
       "      <td>10.0</td>\n",
       "      <td>94.0</td>\n",
       "      <td>4.0</td>\n",
       "      <td>26.0</td>\n",
       "      <td>14.0</td>\n",
       "      <td>9.0</td>\n",
       "      <td>11.0</td>\n",
       "      <td>...</td>\n",
       "      <td>32.0</td>\n",
       "      <td>10.0</td>\n",
       "      <td>26.0</td>\n",
       "      <td>27.0</td>\n",
       "      <td>16.0</td>\n",
       "      <td>11.0</td>\n",
       "      <td>17.0</td>\n",
       "      <td>19.0</td>\n",
       "      <td>10.0</td>\n",
       "      <td>11.0</td>\n",
       "    </tr>\n",
       "    <tr>\n",
       "      <td>4</td>\n",
       "      <td>52_Hz_I_Love_You_zh.wikipedia.org_all-access_s...</td>\n",
       "      <td>0.0</td>\n",
       "      <td>0.0</td>\n",
       "      <td>0.0</td>\n",
       "      <td>0.0</td>\n",
       "      <td>0.0</td>\n",
       "      <td>0.0</td>\n",
       "      <td>0.0</td>\n",
       "      <td>0.0</td>\n",
       "      <td>0.0</td>\n",
       "      <td>...</td>\n",
       "      <td>48.0</td>\n",
       "      <td>9.0</td>\n",
       "      <td>25.0</td>\n",
       "      <td>13.0</td>\n",
       "      <td>3.0</td>\n",
       "      <td>11.0</td>\n",
       "      <td>27.0</td>\n",
       "      <td>13.0</td>\n",
       "      <td>36.0</td>\n",
       "      <td>10.0</td>\n",
       "    </tr>\n",
       "  </tbody>\n",
       "</table>\n",
       "<p>5 rows × 551 columns</p>\n",
       "</div>"
      ],
      "text/plain": [
       "                                                Page  2015-07-01  2015-07-02  \\\n",
       "0            2NE1_zh.wikipedia.org_all-access_spider        18.0        11.0   \n",
       "1             2PM_zh.wikipedia.org_all-access_spider        11.0        14.0   \n",
       "2              3C_zh.wikipedia.org_all-access_spider         1.0         0.0   \n",
       "3         4minute_zh.wikipedia.org_all-access_spider        35.0        13.0   \n",
       "4  52_Hz_I_Love_You_zh.wikipedia.org_all-access_s...         0.0         0.0   \n",
       "\n",
       "   2015-07-03  2015-07-04  2015-07-05  2015-07-06  2015-07-07  2015-07-08  \\\n",
       "0         5.0        13.0        14.0         9.0         9.0        22.0   \n",
       "1        15.0        18.0        11.0        13.0        22.0        11.0   \n",
       "2         1.0         1.0         0.0         4.0         0.0         3.0   \n",
       "3        10.0        94.0         4.0        26.0        14.0         9.0   \n",
       "4         0.0         0.0         0.0         0.0         0.0         0.0   \n",
       "\n",
       "   2015-07-09  ...  2016-12-22  2016-12-23  2016-12-24  2016-12-25  \\\n",
       "0        26.0  ...        32.0        63.0        15.0        26.0   \n",
       "1        10.0  ...        17.0        42.0        28.0        15.0   \n",
       "2         4.0  ...         3.0         1.0         1.0         7.0   \n",
       "3        11.0  ...        32.0        10.0        26.0        27.0   \n",
       "4         0.0  ...        48.0         9.0        25.0        13.0   \n",
       "\n",
       "   2016-12-26  2016-12-27  2016-12-28  2016-12-29  2016-12-30  2016-12-31  \n",
       "0        14.0        20.0        22.0        19.0        18.0        20.0  \n",
       "1         9.0        30.0        52.0        45.0        26.0        20.0  \n",
       "2         4.0         4.0         6.0         3.0         4.0        17.0  \n",
       "3        16.0        11.0        17.0        19.0        10.0        11.0  \n",
       "4         3.0        11.0        27.0        13.0        36.0        10.0  \n",
       "\n",
       "[5 rows x 551 columns]"
      ]
     },
     "execution_count": 4,
     "metadata": {},
     "output_type": "execute_result"
    }
   ],
   "source": [
    "train = pd.read_csv(\"./data/train_1.csv\").fillna(0)\n",
    "train.head()"
   ]
  },
  {
   "cell_type": "markdown",
   "metadata": {},
   "source": [
    "页面列中的数据包含页面名称，维基百科页面的语言，访问设备的类型和访问代理。\n",
    "其他列包含该日期与该页面的点击量。\n",
    "\n",
    "因此，在上表中，第一行包含通过所有访问方式在中文版的Wikipedia上朝鲜流行乐队2NE1的页面，但仅适用于被归类为爬虫代理商的数据。也就是说，流量是通过爬虫访问的数据量。尽管大多数时间序列工作都集中在与时间相关的局部特征上，但我们可以通过提供对全局特征的访问来丰富所有模型。\n",
    "因此，我们希望将页面字符串拆分为更小，更有用的功能。我们可以通过运行以下代码来实现此目的："
   ]
  },
  {
   "cell_type": "code",
   "execution_count": 5,
   "metadata": {},
   "outputs": [],
   "source": [
    "def parse_page(page):\n",
    "    x = page.split('_')\n",
    "    return ' '.join(x[:-3]), x[-3], x[-2], x[-1]"
   ]
  },
  {
   "cell_type": "markdown",
   "metadata": {},
   "source": [
    "我们用下划线将字符串分开。页面名称中还可以包含下划线，因此我们将最后三个字段分开，然后将其余字段合并在一起以获取本文的主题。\n",
    "如下面的代码所示，倒数第二个元素是子URL，例如，en.wikipedia.org。倒数第二个元素是访问权限，最后一个元素是代理："
   ]
  },
  {
   "cell_type": "code",
   "execution_count": 6,
   "metadata": {},
   "outputs": [
    {
     "data": {
      "text/plain": [
       "('2NE1', 'zh.wikipedia.org', 'all-access', 'spider')"
      ]
     },
     "execution_count": 6,
     "metadata": {},
     "output_type": "execute_result"
    }
   ],
   "source": [
    "parse_page(train.Page[0])"
   ]
  },
  {
   "cell_type": "markdown",
   "metadata": {},
   "source": [
    "当我们将此功能应用于训练集中的每个页面条目时，我们将获得一个元组列表，然后我们可以将其合并到一个新的DataFrame中，如下面的代码所示："
   ]
  },
  {
   "cell_type": "code",
   "execution_count": 7,
   "metadata": {},
   "outputs": [],
   "source": [
    "l = list(train.Page.apply(parse_page))\n",
    "df = pd.DataFrame(l)\n",
    "df.columns = ['Subject','Sub_Page','Access','Agent']"
   ]
  },
  {
   "cell_type": "markdown",
   "metadata": {},
   "source": [
    "最后，我们必须在删除原始页面列之前将此新的DataFrame添加回我们的原始DataFrame中，我们可以通过运行以下操作来做到这一点："
   ]
  },
  {
   "cell_type": "code",
   "execution_count": 8,
   "metadata": {},
   "outputs": [],
   "source": [
    "train = pd.concat([train, df], axis = 1)\n",
    "del train['Page']"
   ]
  },
  {
   "cell_type": "code",
   "execution_count": 9,
   "metadata": {},
   "outputs": [
    {
     "data": {
      "text/html": [
       "<div>\n",
       "<style scoped>\n",
       "    .dataframe tbody tr th:only-of-type {\n",
       "        vertical-align: middle;\n",
       "    }\n",
       "\n",
       "    .dataframe tbody tr th {\n",
       "        vertical-align: top;\n",
       "    }\n",
       "\n",
       "    .dataframe thead th {\n",
       "        text-align: right;\n",
       "    }\n",
       "</style>\n",
       "<table border=\"1\" class=\"dataframe\">\n",
       "  <thead>\n",
       "    <tr style=\"text-align: right;\">\n",
       "      <th></th>\n",
       "      <th>2015-07-01</th>\n",
       "      <th>2015-07-02</th>\n",
       "      <th>2015-07-03</th>\n",
       "      <th>2015-07-04</th>\n",
       "      <th>2015-07-05</th>\n",
       "      <th>2015-07-06</th>\n",
       "      <th>2015-07-07</th>\n",
       "      <th>2015-07-08</th>\n",
       "      <th>2015-07-09</th>\n",
       "      <th>2015-07-10</th>\n",
       "      <th>...</th>\n",
       "      <th>2016-12-26</th>\n",
       "      <th>2016-12-27</th>\n",
       "      <th>2016-12-28</th>\n",
       "      <th>2016-12-29</th>\n",
       "      <th>2016-12-30</th>\n",
       "      <th>2016-12-31</th>\n",
       "      <th>Subject</th>\n",
       "      <th>Sub_Page</th>\n",
       "      <th>Access</th>\n",
       "      <th>Agent</th>\n",
       "    </tr>\n",
       "  </thead>\n",
       "  <tbody>\n",
       "    <tr>\n",
       "      <td>0</td>\n",
       "      <td>18.0</td>\n",
       "      <td>11.0</td>\n",
       "      <td>5.0</td>\n",
       "      <td>13.0</td>\n",
       "      <td>14.0</td>\n",
       "      <td>9.0</td>\n",
       "      <td>9.0</td>\n",
       "      <td>22.0</td>\n",
       "      <td>26.0</td>\n",
       "      <td>24.0</td>\n",
       "      <td>...</td>\n",
       "      <td>14.0</td>\n",
       "      <td>20.0</td>\n",
       "      <td>22.0</td>\n",
       "      <td>19.0</td>\n",
       "      <td>18.0</td>\n",
       "      <td>20.0</td>\n",
       "      <td>2NE1</td>\n",
       "      <td>zh.wikipedia.org</td>\n",
       "      <td>all-access</td>\n",
       "      <td>spider</td>\n",
       "    </tr>\n",
       "    <tr>\n",
       "      <td>1</td>\n",
       "      <td>11.0</td>\n",
       "      <td>14.0</td>\n",
       "      <td>15.0</td>\n",
       "      <td>18.0</td>\n",
       "      <td>11.0</td>\n",
       "      <td>13.0</td>\n",
       "      <td>22.0</td>\n",
       "      <td>11.0</td>\n",
       "      <td>10.0</td>\n",
       "      <td>4.0</td>\n",
       "      <td>...</td>\n",
       "      <td>9.0</td>\n",
       "      <td>30.0</td>\n",
       "      <td>52.0</td>\n",
       "      <td>45.0</td>\n",
       "      <td>26.0</td>\n",
       "      <td>20.0</td>\n",
       "      <td>2PM</td>\n",
       "      <td>zh.wikipedia.org</td>\n",
       "      <td>all-access</td>\n",
       "      <td>spider</td>\n",
       "    </tr>\n",
       "    <tr>\n",
       "      <td>2</td>\n",
       "      <td>1.0</td>\n",
       "      <td>0.0</td>\n",
       "      <td>1.0</td>\n",
       "      <td>1.0</td>\n",
       "      <td>0.0</td>\n",
       "      <td>4.0</td>\n",
       "      <td>0.0</td>\n",
       "      <td>3.0</td>\n",
       "      <td>4.0</td>\n",
       "      <td>4.0</td>\n",
       "      <td>...</td>\n",
       "      <td>4.0</td>\n",
       "      <td>4.0</td>\n",
       "      <td>6.0</td>\n",
       "      <td>3.0</td>\n",
       "      <td>4.0</td>\n",
       "      <td>17.0</td>\n",
       "      <td>3C</td>\n",
       "      <td>zh.wikipedia.org</td>\n",
       "      <td>all-access</td>\n",
       "      <td>spider</td>\n",
       "    </tr>\n",
       "    <tr>\n",
       "      <td>3</td>\n",
       "      <td>35.0</td>\n",
       "      <td>13.0</td>\n",
       "      <td>10.0</td>\n",
       "      <td>94.0</td>\n",
       "      <td>4.0</td>\n",
       "      <td>26.0</td>\n",
       "      <td>14.0</td>\n",
       "      <td>9.0</td>\n",
       "      <td>11.0</td>\n",
       "      <td>16.0</td>\n",
       "      <td>...</td>\n",
       "      <td>16.0</td>\n",
       "      <td>11.0</td>\n",
       "      <td>17.0</td>\n",
       "      <td>19.0</td>\n",
       "      <td>10.0</td>\n",
       "      <td>11.0</td>\n",
       "      <td>4minute</td>\n",
       "      <td>zh.wikipedia.org</td>\n",
       "      <td>all-access</td>\n",
       "      <td>spider</td>\n",
       "    </tr>\n",
       "    <tr>\n",
       "      <td>4</td>\n",
       "      <td>0.0</td>\n",
       "      <td>0.0</td>\n",
       "      <td>0.0</td>\n",
       "      <td>0.0</td>\n",
       "      <td>0.0</td>\n",
       "      <td>0.0</td>\n",
       "      <td>0.0</td>\n",
       "      <td>0.0</td>\n",
       "      <td>0.0</td>\n",
       "      <td>0.0</td>\n",
       "      <td>...</td>\n",
       "      <td>3.0</td>\n",
       "      <td>11.0</td>\n",
       "      <td>27.0</td>\n",
       "      <td>13.0</td>\n",
       "      <td>36.0</td>\n",
       "      <td>10.0</td>\n",
       "      <td>52 Hz I Love You</td>\n",
       "      <td>zh.wikipedia.org</td>\n",
       "      <td>all-access</td>\n",
       "      <td>spider</td>\n",
       "    </tr>\n",
       "  </tbody>\n",
       "</table>\n",
       "<p>5 rows × 554 columns</p>\n",
       "</div>"
      ],
      "text/plain": [
       "   2015-07-01  2015-07-02  2015-07-03  2015-07-04  2015-07-05  2015-07-06  \\\n",
       "0        18.0        11.0         5.0        13.0        14.0         9.0   \n",
       "1        11.0        14.0        15.0        18.0        11.0        13.0   \n",
       "2         1.0         0.0         1.0         1.0         0.0         4.0   \n",
       "3        35.0        13.0        10.0        94.0         4.0        26.0   \n",
       "4         0.0         0.0         0.0         0.0         0.0         0.0   \n",
       "\n",
       "   2015-07-07  2015-07-08  2015-07-09  2015-07-10  ...  2016-12-26  \\\n",
       "0         9.0        22.0        26.0        24.0  ...        14.0   \n",
       "1        22.0        11.0        10.0         4.0  ...         9.0   \n",
       "2         0.0         3.0         4.0         4.0  ...         4.0   \n",
       "3        14.0         9.0        11.0        16.0  ...        16.0   \n",
       "4         0.0         0.0         0.0         0.0  ...         3.0   \n",
       "\n",
       "   2016-12-27  2016-12-28  2016-12-29  2016-12-30  2016-12-31  \\\n",
       "0        20.0        22.0        19.0        18.0        20.0   \n",
       "1        30.0        52.0        45.0        26.0        20.0   \n",
       "2         4.0         6.0         3.0         4.0        17.0   \n",
       "3        11.0        17.0        19.0        10.0        11.0   \n",
       "4        11.0        27.0        13.0        36.0        10.0   \n",
       "\n",
       "            Subject          Sub_Page      Access   Agent  \n",
       "0              2NE1  zh.wikipedia.org  all-access  spider  \n",
       "1               2PM  zh.wikipedia.org  all-access  spider  \n",
       "2                3C  zh.wikipedia.org  all-access  spider  \n",
       "3           4minute  zh.wikipedia.org  all-access  spider  \n",
       "4  52 Hz I Love You  zh.wikipedia.org  all-access  spider  \n",
       "\n",
       "[5 rows x 554 columns]"
      ]
     },
     "execution_count": 9,
     "metadata": {},
     "output_type": "execute_result"
    }
   ],
   "source": [
    "train.head()"
   ]
  },
  {
   "cell_type": "markdown",
   "metadata": {},
   "source": [
    "运行此代码的结果是，我们成功完成了数据集的加载。这意味着我们现在可以继续探索它。"
   ]
  },
  {
   "cell_type": "markdown",
   "metadata": {},
   "source": [
    "## [汇总全局特征统计](#content)\n",
    "\n",
    "经过所有这些艰苦的工作，我们现在可以创建一些有关全局特征的汇总统计信息。\n",
    "\n",
    "使用pandas value_counts()函数可以轻松绘制全局特征的分布图。通过运行以下代码，我们将获得Wikipedia数据集的条形图输出："
   ]
  },
  {
   "cell_type": "code",
   "execution_count": 10,
   "metadata": {},
   "outputs": [
    {
     "data": {
      "image/png": "[encoded data removed]",
      "text/plain": [
       "<Figure size 432x288 with 1 Axes>"
      ]
     },
     "metadata": {
      "needs_background": "light"
     },
     "output_type": "display_data"
    }
   ],
   "source": [
    "train.Sub_Page.value_counts().plot(kind='bar')\n",
    "plt.show()"
   ]
  },
  {
   "cell_type": "markdown",
   "metadata": {},
   "source": [
    "维基百科具有不同语言的子页面，我们可以看到我们的数据集包含来自英语（en），日语（ja），德语（de），法语（fr），中文（zh），俄语（ru）和西班牙语的页面 （es）维基百科站点。\n",
    "\n",
    "在我们制作的条形图中，您可能还注意到了两个基于非国家/地区的Wikipedia网站。\n",
    "commons.wikimedia.org 和 www.mediawiki.org 都用于托管媒体文件，例如图像。\n",
    "\n",
    "让我们再次运行该命令，这次重点关注访问类型："
   ]
  },
  {
   "cell_type": "code",
   "execution_count": 11,
   "metadata": {},
   "outputs": [
    {
     "data": {
      "image/png": "[encoded data removed]",
      "text/plain": [
       "<Figure size 432x288 with 1 Axes>"
      ]
     },
     "metadata": {
      "needs_background": "light"
     },
     "output_type": "display_data"
    }
   ],
   "source": [
    "train.Access.value_counts().plot(kind='bar', color={\"r\", \"g\", \"b\"})\n",
    "plt.show()"
   ]
  },
  {
   "cell_type": "markdown",
   "metadata": {},
   "source": [
    "有两种可能的访问方法：移动和桌面。还有第三个选项全访问，它结合了移动和桌面访问的统计信息。\n",
    "\n",
    "然后，我们可以通过运行以下代码来按代理绘制记录的分布图："
   ]
  },
  {
   "cell_type": "code",
   "execution_count": 12,
   "metadata": {},
   "outputs": [
    {
     "data": {
      "image/png": "[encoded data removed]",
      "text/plain": [
       "<Figure size 432x288 with 1 Axes>"
      ]
     },
     "metadata": {
      "needs_background": "light"
     },
     "output_type": "display_data"
    }
   ],
   "source": [
    "train.Agent.value_counts().plot(kind='bar')\n",
    "plt.show()"
   ]
  },
  {
   "cell_type": "markdown",
   "metadata": {},
   "source": [
    "时间序列不仅适用于爬虫，而且适用于所有其他类型的访问。在经典统计建模中，下一步将是分析每个全局特征的影响并围绕它们构建模型。但是，如果有足够的数据和计算能力可用，这不是必需的。\n",
    "\n",
    "神经网络能够发现全局特征本身的影响，并根据它们之间的相互作用来创建新特征。对于全局功能，只有两个实际的考虑需要解决：\n",
    "\n",
    "- 特征分布是否偏斜？如果是这种情况，那么可能只有少数具有全局特征的实例，我们的模型可能会过度适合于该全局特征。想象一下，在数据集中只有很少的中文维基百科的“文章”。该算法可能会基于特征区分太多，然后过度拟合了少数中文条目。我们的分布相对均匀，因此我们不必为此担心。\n",
    "\n",
    "- 可以轻松编码特征吗？某些全局功能不能一键编码。想象一下，我们获得了带有时间序列的Wikipedia文章的全文。不能立即使用此功能，因为必须进行一些繁重的预处理才能使用它。在我们的案例中，有一些相对简单的类别可以进行一键编码。但是，主题名称不能一键编码，因为主题名称过多。"
   ]
  },
  {
   "cell_type": "markdown",
   "metadata": {},
   "source": [
    "## [检查样本时间序列](#content)\n",
    "\n",
    "要检查数据集的全局特征，我们必须查看一些示例时间序列，以了解我们可能面临的挑战。在本部分中，我们将为美国音乐人Twenty One Pilot的英语语言页面绘制视图。\n",
    "\n",
    "绘制实际的网页浏览量以及10天的滑动平均值。我们可以通过运行以下代码来做到这一点："
   ]
  },
  {
   "cell_type": "code",
   "execution_count": 13,
   "metadata": {},
   "outputs": [
    {
     "data": {
      "image/png": "[encoded data removed]",
      "text/plain": [
       "<Figure size 720x504 with 1 Axes>"
      ]
     },
     "metadata": {
      "needs_background": "light"
     },
     "output_type": "display_data"
    }
   ],
   "source": [
    "idx = 39457\n",
    "window = 10\n",
    "data = train.iloc[idx,0:-4]\n",
    "name = train.iloc[idx, -4]\n",
    "days = [r for r in range(data.shape[0])]\n",
    "fig, ax = plt.subplots(figsize=(10,7))\n",
    "plt.ylabel('Views per Page')\n",
    "plt.xlabel('Day')\n",
    "plt.title(name)\n",
    "\n",
    "ax.plot(days,data.values,color='grey')\n",
    "ax.plot(np.convolve(data, \n",
    "                    np.ones((window,))/window, \n",
    "                    mode='valid'),color='black')\n",
    "ax.set_yscale('log')"
   ]
  },
  {
   "cell_type": "markdown",
   "metadata": {},
   "source": [
    "此代码段中正在进行很多工作，值得逐步进行分析。首先，我们定义要绘制的行。Twenty One Pilots是训练数据集中的第39,457行。之后我们定义了华东平均值的窗口大小。\n",
    "\n",
    "我们使用pandas iloc工具将页面视图数据和名称与整体数据集分开。这使我们可以按行和列坐标索引数据。计算天数而不是显示所有测量日期将使该图更易于阅读，因此我们将为X轴创建一个天数计数器。\n",
    "\n",
    "接下来，我们设置图并通过设置figsize确保其具有所需的大小。我们还定义了轴标签和标题。接下来，我们绘制实际的页面浏览量。我们的X坐标是天，Y坐标是页面浏览量。\n",
    "\n",
    "为了计算均值，我们将使用卷积运算。此卷积操作将创建一个矢量除以窗口大小（在本例中为10）的矢量。卷积操作将矢量在页面视图上滑动，将10页视图与1/10相乘，然后将所得的矢量求和。这将创建一个华东平均值，其窗口大小为10。我们将该平均值绘制为黑色。最后，我们指定要对Y轴使用对数刻度。\n",
    "\n",
    "您可以看到，即使我们使用了对数轴，在我们刚刚生成的Twenty One Pilots图中也会出现一些相当大的峰值。在某些日子里，观看次数猛增到几天前的10倍。因此，很快就很清楚，一个好的模型必须能够应对这种极端的问题。\n",
    "\n",
    "在我们继续之前，值得指出的是，随着页面浏览量通常随着时间的增加，全球趋势也很明显。\n",
    "\n",
    "从好的方面来说，让我们对所有语言的Twenty One Pilots页面浏览进行绘制。我们可以通过运行以下代码来做到这一点："
   ]
  },
  {
   "cell_type": "code",
   "execution_count": 14,
   "metadata": {},
   "outputs": [
    {
     "data": {
      "text/plain": [
       "<matplotlib.legend.Legend at 0x7fa7793343d0>"
      ]
     },
     "execution_count": 14,
     "metadata": {},
     "output_type": "execute_result"
    },
    {
     "data": {
      "image/png": "[encoded data removed]",
      "text/plain": [
       "<Figure size 720x504 with 1 Axes>"
      ]
     },
     "metadata": {
      "needs_background": "light"
     },
     "output_type": "display_data"
    }
   ],
   "source": [
    "fig, ax = plt.subplots(figsize=(10, 7))\n",
    "plt.ylabel('Views per Page')\n",
    "plt.xlabel('Day')\n",
    "plt.title('Twenty One Pilots Popularity')\n",
    "ax.set_yscale('log')\n",
    "\n",
    "for country in ['de','en','es','fr','ru']:\n",
    "    idx= np.where((train['Subject'] == 'Twenty One Pilots') \n",
    "                  & (train['Sub_Page'] == '{}.wikipedia.org'.format(country)) & (train['Access'] == 'all-access') & (train['Agent'] == 'all-agents'))\n",
    "                  \n",
    "    idx=idx[0][0]\n",
    "    \n",
    "    data = train.iloc[idx,0:-4]\n",
    "    handle = ax.plot(days,data.values,label=country)\n",
    "    \n",
    "\n",
    "ax.legend()"
   ]
  },
  {
   "cell_type": "markdown",
   "metadata": {},
   "source": [
    "在此代码中，我们像以前一样先设置图表。然后，我们遍历语言代码，找到Twenty One Pilots的索引。索引是包装在元组中的数组，因此我们必须提取指定实际索引的整数。然后，我们从训练数据集中提取页面浏览量数据并绘制页面浏览量。\n",
    "\n",
    "时间序列之间显然存在一些相关性。毫不奇怪，到目前为止，英语版本的Wikipedia（第一行）最受欢迎。我们还可以看到数据集中的时间序列显然不是固定的; 随着时间的推移它们会改变均值和标准偏差。\n",
    "\n",
    "平稳过程是指其无条件联合概率分布随时间保持不变的过程。换句话说，诸如系列平均值或标准偏差之类的东西应该保持不变。\n",
    "\n",
    "但是，正如您所看到的，在上图中的200-250天之间，页面上的平均观看次数发生了巨大变化。此结果破坏了许多经典建模方法所做的某些假设。但是，金融时间序列几乎从未停止过，因此值得解决这些问题。通过解决这些问题，我们熟悉了可以帮助我们处理非平稳性的几种有用工具。"
   ]
  },
  {
   "cell_type": "markdown",
   "metadata": {},
   "source": [
    "# [不同种类的平稳性](#content)\n",
    "\n",
    "平稳性可能意味着不同的事情，因此了解手头任务需要哪种平稳性至关重要。为简单起见，在这里我们仅讨论两种平稳性：平均平稳性和方差平稳性。下图显示了四个具有不同程度（非平稳）平稳性的时间序列：\n",
    "\n",
    "![1.2](./img/1.2.png)\n",
    "\n",
    "平均平稳性是指一系列水平是恒定的。当然，这里的单个数据点可能会偏离，但长期平均值应该是稳定的。\n",
    "\n",
    "方差平稳性是指与均值不变的方差。同样，可能存在离群值和短序列，其方差似乎更高，但总体方差应处于同一水平。\n",
    "\n",
    "第三种平稳性很难直观显示，此处未显示，它是“协方差平稳性。这是指不同滞后之间的协方差是恒定的。人们提到协方差平稳性时，通常是指均值，方差和协方差是固定的特殊条件。许多计量经济学模型（尤其是风险管理模型）都在这种协方差平稳性假设下运行。\n",
    "\n",
    "## [为什么平稳性很重要](#content)\n",
    "\n",
    "许多经典的计量经济学方法都采用某种形式的平稳性。这样做的一个关键原因是，在时间序列固定的情况下，推理和假设检验的效果更好。但是，即使从纯粹的预测角度来看，平稳性也会有所帮助，因为它会使我们的模型失去一些工作。看一下前面图表中的“不平稳”系列。您可以看到预测该系列的主要部分是要认识到该系列向上移动的事实。如果我们可以在模型之外捕捉到这一事实，则该模型必须学习更少，并且可以将其功能用于其他目的。另一个原因是，它将我们输入模型的值保持在相同范围内。请记住，在使用神经网络之前，我们需要对数据进行标准化。如果股价从1美元涨到1,000美元，我们最终将获得非标准化的数据，这反过来将使培训变得困难。\n",
    "\n",
    "## [使时间序列保持平稳](#content)\n",
    "\n",
    "在金融数据（尤其是价格）中实现平均平稳性的标准方法称为差异。它是指计算价格收益。在下面的图像中，您可以看到S&P 500的原始版本和差异版本。原始版本并不是随着价值的增长而固定不变，而差异版本几乎是固定的。\n",
    "\n",
    "![1.3](./img/1.3.png)\n",
    "\n",
    "平均平稳性的另一种方法是基于线性回归。在这里，我们将线性模型拟合到数据。statsmodels是此类经典建模的一个流行库，它具有内置的线性回归模型。下面的示例说明如何使用statsmodels从数据中删除线性趋势："
   ]
  },
  {
   "cell_type": "code",
   "execution_count": 15,
   "metadata": {},
   "outputs": [],
   "source": [
    "time = np.linspace(0,10,1000)\n",
    "series = time\n",
    "series = series + np.random.rand(1000) * 0.2\n",
    "mdl = sm.OLS(time, series).fit()\n",
    "trend = mdl.predict(time)"
   ]
  },
  {
   "cell_type": "code",
   "execution_count": 16,
   "metadata": {},
   "outputs": [
    {
     "data": {
      "text/plain": [
       "array([0.        , 0.00985241, 0.01970482, 0.02955723, 0.03940964,\n",
       "       0.04926205, 0.05911446, 0.06896687, 0.07881928, 0.08867169,\n",
       "       0.0985241 , 0.10837651, 0.11822892, 0.12808133, 0.13793374,\n",
       "       0.14778615, 0.15763856, 0.16749097, 0.17734338, 0.18719579,\n",
       "       0.1970482 , 0.20690061, 0.21675301, 0.22660542, 0.23645783,\n",
       "       0.24631024, 0.25616265, 0.26601506, 0.27586747, 0.28571988,\n",
       "       0.29557229, 0.3054247 , 0.31527711, 0.32512952, 0.33498193,\n",
       "       0.34483434, 0.35468675, 0.36453916, 0.37439157, 0.38424398,\n",
       "       0.39409639, 0.4039488 , 0.41380121, 0.42365362, 0.43350603,\n",
       "       0.44335844, 0.45321085, 0.46306326, 0.47291567, 0.48276808,\n",
       "       0.49262049, 0.5024729 , 0.51232531, 0.52217772, 0.53203013,\n",
       "       0.54188254, 0.55173495, 0.56158736, 0.57143977, 0.58129218,\n",
       "       0.59114459, 0.600997  , 0.61084941, 0.62070182, 0.63055422,\n",
       "       0.64040663, 0.65025904, 0.66011145, 0.66996386, 0.67981627,\n",
       "       0.68966868, 0.69952109, 0.7093735 , 0.71922591, 0.72907832,\n",
       "       0.73893073, 0.74878314, 0.75863555, 0.76848796, 0.77834037,\n",
       "       0.78819278, 0.79804519, 0.8078976 , 0.81775001, 0.82760242,\n",
       "       0.83745483, 0.84730724, 0.85715965, 0.86701206, 0.87686447,\n",
       "       0.88671688, 0.89656929, 0.9064217 , 0.91627411, 0.92612652,\n",
       "       0.93597893, 0.94583134, 0.95568375, 0.96553616, 0.97538857,\n",
       "       0.98524098, 0.99509339, 1.0049458 , 1.01479821, 1.02465062,\n",
       "       1.03450303, 1.04435543, 1.05420784, 1.06406025, 1.07391266,\n",
       "       1.08376507, 1.09361748, 1.10346989, 1.1133223 , 1.12317471,\n",
       "       1.13302712, 1.14287953, 1.15273194, 1.16258435, 1.17243676,\n",
       "       1.18228917, 1.19214158, 1.20199399, 1.2118464 , 1.22169881,\n",
       "       1.23155122, 1.24140363, 1.25125604, 1.26110845, 1.27096086,\n",
       "       1.28081327, 1.29066568, 1.30051809, 1.3103705 , 1.32022291,\n",
       "       1.33007532, 1.33992773, 1.34978014, 1.35963255, 1.36948496,\n",
       "       1.37933737, 1.38918978, 1.39904219, 1.4088946 , 1.41874701,\n",
       "       1.42859942, 1.43845183, 1.44830424, 1.45815665, 1.46800905,\n",
       "       1.47786146, 1.48771387, 1.49756628, 1.50741869, 1.5172711 ,\n",
       "       1.52712351, 1.53697592, 1.54682833, 1.55668074, 1.56653315,\n",
       "       1.57638556, 1.58623797, 1.59609038, 1.60594279, 1.6157952 ,\n",
       "       1.62564761, 1.63550002, 1.64535243, 1.65520484, 1.66505725,\n",
       "       1.67490966, 1.68476207, 1.69461448, 1.70446689, 1.7143193 ,\n",
       "       1.72417171, 1.73402412, 1.74387653, 1.75372894, 1.76358135,\n",
       "       1.77343376, 1.78328617, 1.79313858, 1.80299099, 1.8128434 ,\n",
       "       1.82269581, 1.83254822, 1.84240063, 1.85225304, 1.86210545,\n",
       "       1.87195786, 1.88181026, 1.89166267, 1.90151508, 1.91136749,\n",
       "       1.9212199 , 1.93107231, 1.94092472, 1.95077713, 1.96062954,\n",
       "       1.97048195, 1.98033436, 1.99018677, 2.00003918, 2.00989159,\n",
       "       2.019744  , 2.02959641, 2.03944882, 2.04930123, 2.05915364,\n",
       "       2.06900605, 2.07885846, 2.08871087, 2.09856328, 2.10841569,\n",
       "       2.1182681 , 2.12812051, 2.13797292, 2.14782533, 2.15767774,\n",
       "       2.16753015, 2.17738256, 2.18723497, 2.19708738, 2.20693979,\n",
       "       2.2167922 , 2.22664461, 2.23649702, 2.24634943, 2.25620184,\n",
       "       2.26605425, 2.27590666, 2.28575907, 2.29561148, 2.30546388,\n",
       "       2.31531629, 2.3251687 , 2.33502111, 2.34487352, 2.35472593,\n",
       "       2.36457834, 2.37443075, 2.38428316, 2.39413557, 2.40398798,\n",
       "       2.41384039, 2.4236928 , 2.43354521, 2.44339762, 2.45325003,\n",
       "       2.46310244, 2.47295485, 2.48280726, 2.49265967, 2.50251208,\n",
       "       2.51236449, 2.5222169 , 2.53206931, 2.54192172, 2.55177413,\n",
       "       2.56162654, 2.57147895, 2.58133136, 2.59118377, 2.60103618,\n",
       "       2.61088859, 2.620741  , 2.63059341, 2.64044582, 2.65029823,\n",
       "       2.66015064, 2.67000305, 2.67985546, 2.68970787, 2.69956028,\n",
       "       2.70941269, 2.71926509, 2.7291175 , 2.73896991, 2.74882232,\n",
       "       2.75867473, 2.76852714, 2.77837955, 2.78823196, 2.79808437,\n",
       "       2.80793678, 2.81778919, 2.8276416 , 2.83749401, 2.84734642,\n",
       "       2.85719883, 2.86705124, 2.87690365, 2.88675606, 2.89660847,\n",
       "       2.90646088, 2.91631329, 2.9261657 , 2.93601811, 2.94587052,\n",
       "       2.95572293, 2.96557534, 2.97542775, 2.98528016, 2.99513257,\n",
       "       3.00498498, 3.01483739, 3.0246898 , 3.03454221, 3.04439462,\n",
       "       3.05424703, 3.06409944, 3.07395185, 3.08380426, 3.09365667,\n",
       "       3.10350908, 3.11336149, 3.1232139 , 3.1330663 , 3.14291871,\n",
       "       3.15277112, 3.16262353, 3.17247594, 3.18232835, 3.19218076,\n",
       "       3.20203317, 3.21188558, 3.22173799, 3.2315904 , 3.24144281,\n",
       "       3.25129522, 3.26114763, 3.27100004, 3.28085245, 3.29070486,\n",
       "       3.30055727, 3.31040968, 3.32026209, 3.3301145 , 3.33996691,\n",
       "       3.34981932, 3.35967173, 3.36952414, 3.37937655, 3.38922896,\n",
       "       3.39908137, 3.40893378, 3.41878619, 3.4286386 , 3.43849101,\n",
       "       3.44834342, 3.45819583, 3.46804824, 3.47790065, 3.48775306,\n",
       "       3.49760547, 3.50745788, 3.51731029, 3.5271627 , 3.53701511,\n",
       "       3.54686752, 3.55671992, 3.56657233, 3.57642474, 3.58627715,\n",
       "       3.59612956, 3.60598197, 3.61583438, 3.62568679, 3.6355392 ,\n",
       "       3.64539161, 3.65524402, 3.66509643, 3.67494884, 3.68480125,\n",
       "       3.69465366, 3.70450607, 3.71435848, 3.72421089, 3.7340633 ,\n",
       "       3.74391571, 3.75376812, 3.76362053, 3.77347294, 3.78332535,\n",
       "       3.79317776, 3.80303017, 3.81288258, 3.82273499, 3.8325874 ,\n",
       "       3.84243981, 3.85229222, 3.86214463, 3.87199704, 3.88184945,\n",
       "       3.89170186, 3.90155427, 3.91140668, 3.92125909, 3.9311115 ,\n",
       "       3.94096391, 3.95081632, 3.96066873, 3.97052113, 3.98037354,\n",
       "       3.99022595, 4.00007836, 4.00993077, 4.01978318, 4.02963559,\n",
       "       4.039488  , 4.04934041, 4.05919282, 4.06904523, 4.07889764,\n",
       "       4.08875005, 4.09860246, 4.10845487, 4.11830728, 4.12815969,\n",
       "       4.1380121 , 4.14786451, 4.15771692, 4.16756933, 4.17742174,\n",
       "       4.18727415, 4.19712656, 4.20697897, 4.21683138, 4.22668379,\n",
       "       4.2365362 , 4.24638861, 4.25624102, 4.26609343, 4.27594584,\n",
       "       4.28579825, 4.29565066, 4.30550307, 4.31535548, 4.32520789,\n",
       "       4.3350603 , 4.34491271, 4.35476512, 4.36461753, 4.37446994,\n",
       "       4.38432235, 4.39417475, 4.40402716, 4.41387957, 4.42373198,\n",
       "       4.43358439, 4.4434368 , 4.45328921, 4.46314162, 4.47299403,\n",
       "       4.48284644, 4.49269885, 4.50255126, 4.51240367, 4.52225608,\n",
       "       4.53210849, 4.5419609 , 4.55181331, 4.56166572, 4.57151813,\n",
       "       4.58137054, 4.59122295, 4.60107536, 4.61092777, 4.62078018,\n",
       "       4.63063259, 4.640485  , 4.65033741, 4.66018982, 4.67004223,\n",
       "       4.67989464, 4.68974705, 4.69959946, 4.70945187, 4.71930428,\n",
       "       4.72915669, 4.7390091 , 4.74886151, 4.75871392, 4.76856633,\n",
       "       4.77841874, 4.78827115, 4.79812356, 4.80797596, 4.81782837,\n",
       "       4.82768078, 4.83753319, 4.8473856 , 4.85723801, 4.86709042,\n",
       "       4.87694283, 4.88679524, 4.89664765, 4.90650006, 4.91635247,\n",
       "       4.92620488, 4.93605729, 4.9459097 , 4.95576211, 4.96561452,\n",
       "       4.97546693, 4.98531934, 4.99517175, 5.00502416, 5.01487657,\n",
       "       5.02472898, 5.03458139, 5.0444338 , 5.05428621, 5.06413862,\n",
       "       5.07399103, 5.08384344, 5.09369585, 5.10354826, 5.11340067,\n",
       "       5.12325308, 5.13310549, 5.1429579 , 5.15281031, 5.16266272,\n",
       "       5.17251513, 5.18236754, 5.19221995, 5.20207236, 5.21192477,\n",
       "       5.22177717, 5.23162958, 5.24148199, 5.2513344 , 5.26118681,\n",
       "       5.27103922, 5.28089163, 5.29074404, 5.30059645, 5.31044886,\n",
       "       5.32030127, 5.33015368, 5.34000609, 5.3498585 , 5.35971091,\n",
       "       5.36956332, 5.37941573, 5.38926814, 5.39912055, 5.40897296,\n",
       "       5.41882537, 5.42867778, 5.43853019, 5.4483826 , 5.45823501,\n",
       "       5.46808742, 5.47793983, 5.48779224, 5.49764465, 5.50749706,\n",
       "       5.51734947, 5.52720188, 5.53705429, 5.5469067 , 5.55675911,\n",
       "       5.56661152, 5.57646393, 5.58631634, 5.59616875, 5.60602116,\n",
       "       5.61587357, 5.62572598, 5.63557839, 5.64543079, 5.6552832 ,\n",
       "       5.66513561, 5.67498802, 5.68484043, 5.69469284, 5.70454525,\n",
       "       5.71439766, 5.72425007, 5.73410248, 5.74395489, 5.7538073 ,\n",
       "       5.76365971, 5.77351212, 5.78336453, 5.79321694, 5.80306935,\n",
       "       5.81292176, 5.82277417, 5.83262658, 5.84247899, 5.8523314 ,\n",
       "       5.86218381, 5.87203622, 5.88188863, 5.89174104, 5.90159345,\n",
       "       5.91144586, 5.92129827, 5.93115068, 5.94100309, 5.9508555 ,\n",
       "       5.96070791, 5.97056032, 5.98041273, 5.99026514, 6.00011755,\n",
       "       6.00996996, 6.01982237, 6.02967478, 6.03952719, 6.0493796 ,\n",
       "       6.059232  , 6.06908441, 6.07893682, 6.08878923, 6.09864164,\n",
       "       6.10849405, 6.11834646, 6.12819887, 6.13805128, 6.14790369,\n",
       "       6.1577561 , 6.16760851, 6.17746092, 6.18731333, 6.19716574,\n",
       "       6.20701815, 6.21687056, 6.22672297, 6.23657538, 6.24642779,\n",
       "       6.2562802 , 6.26613261, 6.27598502, 6.28583743, 6.29568984,\n",
       "       6.30554225, 6.31539466, 6.32524707, 6.33509948, 6.34495189,\n",
       "       6.3548043 , 6.36465671, 6.37450912, 6.38436153, 6.39421394,\n",
       "       6.40406635, 6.41391876, 6.42377117, 6.43362358, 6.44347599,\n",
       "       6.4533284 , 6.46318081, 6.47303321, 6.48288562, 6.49273803,\n",
       "       6.50259044, 6.51244285, 6.52229526, 6.53214767, 6.54200008,\n",
       "       6.55185249, 6.5617049 , 6.57155731, 6.58140972, 6.59126213,\n",
       "       6.60111454, 6.61096695, 6.62081936, 6.63067177, 6.64052418,\n",
       "       6.65037659, 6.660229  , 6.67008141, 6.67993382, 6.68978623,\n",
       "       6.69963864, 6.70949105, 6.71934346, 6.72919587, 6.73904828,\n",
       "       6.74890069, 6.7587531 , 6.76860551, 6.77845792, 6.78831033,\n",
       "       6.79816274, 6.80801515, 6.81786756, 6.82771997, 6.83757238,\n",
       "       6.84742479, 6.8572772 , 6.86712961, 6.87698202, 6.88683443,\n",
       "       6.89668683, 6.90653924, 6.91639165, 6.92624406, 6.93609647,\n",
       "       6.94594888, 6.95580129, 6.9656537 , 6.97550611, 6.98535852,\n",
       "       6.99521093, 7.00506334, 7.01491575, 7.02476816, 7.03462057,\n",
       "       7.04447298, 7.05432539, 7.0641778 , 7.07403021, 7.08388262,\n",
       "       7.09373503, 7.10358744, 7.11343985, 7.12329226, 7.13314467,\n",
       "       7.14299708, 7.15284949, 7.1627019 , 7.17255431, 7.18240672,\n",
       "       7.19225913, 7.20211154, 7.21196395, 7.22181636, 7.23166877,\n",
       "       7.24152118, 7.25137359, 7.261226  , 7.27107841, 7.28093082,\n",
       "       7.29078323, 7.30063564, 7.31048804, 7.32034045, 7.33019286,\n",
       "       7.34004527, 7.34989768, 7.35975009, 7.3696025 , 7.37945491,\n",
       "       7.38930732, 7.39915973, 7.40901214, 7.41886455, 7.42871696,\n",
       "       7.43856937, 7.44842178, 7.45827419, 7.4681266 , 7.47797901,\n",
       "       7.48783142, 7.49768383, 7.50753624, 7.51738865, 7.52724106,\n",
       "       7.53709347, 7.54694588, 7.55679829, 7.5666507 , 7.57650311,\n",
       "       7.58635552, 7.59620793, 7.60606034, 7.61591275, 7.62576516,\n",
       "       7.63561757, 7.64546998, 7.65532239, 7.6651748 , 7.67502721,\n",
       "       7.68487962, 7.69473203, 7.70458444, 7.71443685, 7.72428926,\n",
       "       7.73414166, 7.74399407, 7.75384648, 7.76369889, 7.7735513 ,\n",
       "       7.78340371, 7.79325612, 7.80310853, 7.81296094, 7.82281335,\n",
       "       7.83266576, 7.84251817, 7.85237058, 7.86222299, 7.8720754 ,\n",
       "       7.88192781, 7.89178022, 7.90163263, 7.91148504, 7.92133745,\n",
       "       7.93118986, 7.94104227, 7.95089468, 7.96074709, 7.9705995 ,\n",
       "       7.98045191, 7.99030432, 8.00015673, 8.01000914, 8.01986155,\n",
       "       8.02971396, 8.03956637, 8.04941878, 8.05927119, 8.0691236 ,\n",
       "       8.07897601, 8.08882842, 8.09868083, 8.10853324, 8.11838565,\n",
       "       8.12823806, 8.13809047, 8.14794287, 8.15779528, 8.16764769,\n",
       "       8.1775001 , 8.18735251, 8.19720492, 8.20705733, 8.21690974,\n",
       "       8.22676215, 8.23661456, 8.24646697, 8.25631938, 8.26617179,\n",
       "       8.2760242 , 8.28587661, 8.29572902, 8.30558143, 8.31543384,\n",
       "       8.32528625, 8.33513866, 8.34499107, 8.35484348, 8.36469589,\n",
       "       8.3745483 , 8.38440071, 8.39425312, 8.40410553, 8.41395794,\n",
       "       8.42381035, 8.43366276, 8.44351517, 8.45336758, 8.46321999,\n",
       "       8.4730724 , 8.48292481, 8.49277722, 8.50262963, 8.51248204,\n",
       "       8.52233445, 8.53218686, 8.54203927, 8.55189168, 8.56174408,\n",
       "       8.57159649, 8.5814489 , 8.59130131, 8.60115372, 8.61100613,\n",
       "       8.62085854, 8.63071095, 8.64056336, 8.65041577, 8.66026818,\n",
       "       8.67012059, 8.679973  , 8.68982541, 8.69967782, 8.70953023,\n",
       "       8.71938264, 8.72923505, 8.73908746, 8.74893987, 8.75879228,\n",
       "       8.76864469, 8.7784971 , 8.78834951, 8.79820192, 8.80805433,\n",
       "       8.81790674, 8.82775915, 8.83761156, 8.84746397, 8.85731638,\n",
       "       8.86716879, 8.8770212 , 8.88687361, 8.89672602, 8.90657843,\n",
       "       8.91643084, 8.92628325, 8.93613566, 8.94598807, 8.95584048,\n",
       "       8.96569289, 8.9755453 , 8.9853977 , 8.99525011, 9.00510252,\n",
       "       9.01495493, 9.02480734, 9.03465975, 9.04451216, 9.05436457,\n",
       "       9.06421698, 9.07406939, 9.0839218 , 9.09377421, 9.10362662,\n",
       "       9.11347903, 9.12333144, 9.13318385, 9.14303626, 9.15288867,\n",
       "       9.16274108, 9.17259349, 9.1824459 , 9.19229831, 9.20215072,\n",
       "       9.21200313, 9.22185554, 9.23170795, 9.24156036, 9.25141277,\n",
       "       9.26126518, 9.27111759, 9.28097   , 9.29082241, 9.30067482,\n",
       "       9.31052723, 9.32037964, 9.33023205, 9.34008446, 9.34993687,\n",
       "       9.35978928, 9.36964169, 9.3794941 , 9.38934651, 9.39919891,\n",
       "       9.40905132, 9.41890373, 9.42875614, 9.43860855, 9.44846096,\n",
       "       9.45831337, 9.46816578, 9.47801819, 9.4878706 , 9.49772301,\n",
       "       9.50757542, 9.51742783, 9.52728024, 9.53713265, 9.54698506,\n",
       "       9.55683747, 9.56668988, 9.57654229, 9.5863947 , 9.59624711,\n",
       "       9.60609952, 9.61595193, 9.62580434, 9.63565675, 9.64550916,\n",
       "       9.65536157, 9.66521398, 9.67506639, 9.6849188 , 9.69477121,\n",
       "       9.70462362, 9.71447603, 9.72432844, 9.73418085, 9.74403326,\n",
       "       9.75388567, 9.76373808, 9.77359049, 9.7834429 , 9.79329531,\n",
       "       9.80314772, 9.81300013, 9.82285253, 9.83270494, 9.84255735])"
      ]
     },
     "execution_count": 16,
     "metadata": {},
     "output_type": "execute_result"
    }
   ],
   "source": [
    "trend"
   ]
  },
  {
   "cell_type": "markdown",
   "metadata": {},
   "source": [
    "![1.4](./img/1.4.png)\n",
    "值得强调的是，平稳性是建模的一部分，应该只适用于训练集。差分不是一个大问题，但可能导致线性去趋势问题。"
   ]
  },
  {
   "cell_type": "markdown",
   "metadata": {},
   "source": [
    "消除方差非平稳性更加困难。一种典型的方法是计算一些滚动方差，然后将新值除以该方差。在训练集上，您还可以对数据进行学习。为此，您需要计算每日方差，然后将所有值除以其根。同样，您只能对训练集执行此操作，因为方差计算需要您已经知道值。\n",
    "\n",
    "## [何时忽略平稳性问题](#content)\n",
    "\n",
    "有时候您不应该担心平稳性。预测突然的变化时，例如所谓的结构性断裂。在Wikipedia示例中，我们有兴趣知道何时开始访问网站的频率比以前高得多。在这种情况下，消除水平差异会阻止我们的模型学习预测此类变化。同样，我们可能能够轻松地将非平稳性纳入我们的模型中，或者可以在pipline的后期阶段确保它。我们通常只在整个数据集的一小部分子序列上训练神经网络。如果我们对每个子序列进行标准化，则子序列内均值的移动可能会忽略不计，我们不必为此担心。预测比推理和假设测试要宽容得多，因此，如果我们的模型可以在这样的数据上进行预测，那么我们可能会摆脱一些不稳定的问题。"
   ]
  },
  {
   "cell_type": "markdown",
   "metadata": {},
   "source": [
    "# [快速傅立叶变换](#content)\n",
    "\n",
    "我们经常想计算的关于时间序列的另一个有趣的统计数据是傅立叶变换（FT）。无需进行数学运算，傅立叶变换将向我们显示函数中特定频率内的振荡量。\n",
    "\n",
    "您可以像老式FM收音机上的调谐器那样想象。转动调谐器时，您会搜索不同的频率。每隔一段时间，您会发现一个频率，可为您清楚地显示特定广播电台的信号。傅立叶变换基本上扫描整个频谱，并记录在哪个频率上有强信号。就时间序列而言，这在尝试查找数据中的周期性模式时很有用。\n",
    "\n",
    "想象一下，我们发现每周有一个频率会给我们一个强有力的模式。这意味着对一周前同一天的流量的了解将有助于我们的模型。\n",
    "\n",
    "当函数和傅立叶变换都是离散的时（在一系列日常测量中就是这种情况），它称为离散傅立叶变换（DFT）。一种用于计算DFT的非常快速的算法称为快速傅立叶变换（FFT），今天它已成为科学计算中的重要算法。数学家卡尔·高斯（Carl Gauss）于1805年就知道了这一理论，但美国数学家詹姆斯·W·库利（James W. Cooley）和约翰·图基（John Tukey）于1965年才发现这一理论。\n",
    "\n",
    "傅立叶变换的工作方式和原因超出了本章的范围，因此在本节中，我们仅作简要介绍。想象一下我们作为电线的功能。我们将这根导线缠绕并缠绕在一个点上，如果缠绕该导线以使该点周围的转数与信号的频率匹配，则所有信号峰值将位于极点的一侧。这意味着导线的质心将远离我们缠绕导线的位置。\n",
    "\n",
    "在数学上，可以通过将函数g(n乘以 $e^{-2 \\pi i f n}$ 来将函数环绕在点上，其中f是环绕的频率，n是序列中项的编号，i是虚数的平方根-1。不熟悉虚数的读者可以将它们视为坐标，其中每个数都有一个包含实数和虚数的二维坐标。\n",
    "\n",
    "为了计算质心，我们对离散函数中的点坐标进行平均。因此，DFT公式如下：\n",
    "\n",
    "$$\n",
    "y[f]=\\sum_{n=0}^{N-1} e^{-2 \\pi i \\frac{f n}{N}} x[n]\n",
    "$$\n",
    "\n",
    "\n",
    "这里y[f]是变换后的序列中的第f个元素，而x[n]是输入序列x中的第n个元素。N是输入序列中的总点数。请注意，y[f]将是一个包含实元素和离散元素的数字。\n",
    "\n",
    "要检测频率，我们只对y[f]的整体幅度感兴趣。为了获得此大小，我们需要计算虚部和实部的平方和的根。在Python中，我们不必担心所有的数学运算，因为我们可以使用scikit-learn的fftpack，它内置了FFT函数。\n",
    "\n",
    "下一步是运行以下代码："
   ]
  },
  {
   "cell_type": "code",
   "execution_count": 18,
   "metadata": {},
   "outputs": [],
   "source": [
    "data = train.iloc[:,0:-4]\n",
    "fft_complex = fft(data)\n",
    "fft_mag = [np.sqrt(np.real(x) * np.real(x) + np.imag(x) * np.imag(x)) for x in fft_complex]"
   ]
  },
  {
   "cell_type": "markdown",
   "metadata": {},
   "source": [
    "在这里，我们首先从训练集中提取没有全局特征的时间序列测量值。然后我们运行FFT算法，最后算出变换幅度。\n",
    "\n",
    "运行该代码后，我们现在对所有时间序列数据集进行了傅里叶变换。为了使我们能够更好地了解傅立叶变换的一般行为，我们可以通过简单地运行它们来对它们进行平均："
   ]
  },
  {
   "cell_type": "code",
   "execution_count": 19,
   "metadata": {},
   "outputs": [],
   "source": [
    "arr = np.array(fft_mag)\n",
    "fft_mean = np.mean(arr, axis=0)"
   ]
  },
  {
   "cell_type": "markdown",
   "metadata": {},
   "source": [
    "这首先将幅度转换为NumPy数组，然后计算平均值。我们要计算每个频率的平均值，而不仅仅是所有幅度的平均值，因此我们需要指定获取平均值的轴。\n",
    "\n",
    "在这种情况下，序列数据是按行堆叠的，因此采用列平均（轴零）将导致频率均值。为了更好地绘制变换图，我们需要创建一个测试频率列表。频率的格式为：每天数据集中的天/全天，因此1 / 550、2 / 550、3 / 550等。要创建列表，我们需要运行："
   ]
  },
  {
   "cell_type": "code",
   "execution_count": 20,
   "metadata": {},
   "outputs": [],
   "source": [
    "fft_xvals = [day / fft_mean.shape[0] for day in range(fft_mean.shape[0])]"
   ]
  },
  {
   "cell_type": "markdown",
   "metadata": {},
   "source": [
    "在此可视化中，我们只关心每周范围内的频率范围，因此我们将删除转换的后半部分，我们可以通过运行以下操作来做到这一点："
   ]
  },
  {
   "cell_type": "code",
   "execution_count": 21,
   "metadata": {},
   "outputs": [],
   "source": [
    "npts = len(fft_xvals) // 2 + 1\n",
    "fft_mean = fft_mean[:npts]\n",
    "fft_xvals = fft_xvals[:npts]"
   ]
  },
  {
   "cell_type": "markdown",
   "metadata": {},
   "source": [
    "最后，我们可以绘制变形图："
   ]
  },
  {
   "cell_type": "code",
   "execution_count": 22,
   "metadata": {},
   "outputs": [
    {
     "data": {
      "image/png": "[encoded data removed]",
      "text/plain": [
       "<Figure size 720x504 with 1 Axes>"
      ]
     },
     "metadata": {
      "needs_background": "light"
     },
     "output_type": "display_data"
    }
   ],
   "source": [
    "fig, ax = plt.subplots(figsize=(10, 7))\n",
    "ax.plot(fft_xvals[1:],fft_mean[1:])\n",
    "plt.axvline(x=1./7,color='red',alpha=0.3)\n",
    "plt.axvline(x=2./7,color='red',alpha=0.3)\n",
    "plt.axvline(x=3./7,color='red',alpha=0.3)\n",
    "plt.show()"
   ]
  },
  {
   "cell_type": "markdown",
   "metadata": {},
   "source": [
    "正如您在我们生成的图表中所看到的那样，峰值大约为1/7（0.14），2/7（0.28）和3/7（0.42）。由于一周有7天，因此，频率为每周一次，每周两次和每周3次。换句话说，页面统计信息每周（大约）重复一次，因此，例如，一个星期六的访问量与上一个星期六的访问量相关。"
   ]
  },
  {
   "cell_type": "markdown",
   "metadata": {},
   "source": [
    "# [自相关](#content)\n",
    "\n",
    "自相关是由给定间隔分隔的序列中两个元素之间的相关性。直观地，例如，我们假设有关上一步的知识有助于我们预测下一步。但是从两个时间步长之前或从100个时间步长之前的知识怎么样？\n",
    "\n",
    "运行autocorrelation_plot将绘制具有不同滞后时间的元素之间的相关性，并可以帮助我们回答这些问题。事实上，pandas附带了一个方便的自相关绘图工具。要使用它，我们必须传递一系列数据。在我们的例子中，我们传递了随机选择的页面浏览量。\n",
    "\n",
    "我们可以通过运行以下代码来做到这一点："
   ]
  },
  {
   "cell_type": "code",
   "execution_count": null,
   "metadata": {},
   "outputs": [],
   "source": []
  }
 ],
 "metadata": {
  "kernelspec": {
   "display_name": "Python 3",
   "language": "python",
   "name": "python3"
  },
  "language_info": {
   "codemirror_mode": {
    "name": "ipython",
    "version": 3
   },
   "file_extension": ".py",
   "mimetype": "text/x-python",
   "name": "python",
   "nbconvert_exporter": "python",
   "pygments_lexer": "ipython3",
   "version": "3.7.4"
  }
 },
 "nbformat": 4,
 "nbformat_minor": 2
}
